{
 "cells": [
  {
   "cell_type": "code",
   "execution_count": 1,
   "metadata": {},
   "outputs": [
    {
     "name": "stderr",
     "output_type": "stream",
     "text": [
      "/home/noashin/.pyenv/versions/3.7.4/envs/hawkes/lib/python3.7/site-packages/outdated/utils.py:18: OutdatedPackageWarning: The package outdated is out of date. Your version is 0.2.0, the latest is 0.2.1.\n",
      "Set the environment variable OUTDATED_IGNORE=1 to disable these warnings.\n",
      "  **kwargs\n",
      "/home/noashin/.pyenv/versions/3.7.4/envs/hawkes/lib/python3.7/site-packages/outdated/utils.py:18: OutdatedPackageWarning: The package pingouin is out of date. Your version is 0.3.9, the latest is 0.5.0.\n",
      "Set the environment variable OUTDATED_IGNORE=1 to disable these warnings.\n",
      "  **kwargs\n"
     ]
    }
   ],
   "source": [
    "%matplotlib inline\n",
    "\n",
    "import os\n",
    "import sys\n",
    "sys.path.append('../')\n",
    "import pickle\n",
    "import glob\n",
    "\n",
    "import pingouin as pg\n",
    "import numpy as np\n",
    "import scipy.stats as st\n",
    "from scipy.stats import norm\n",
    "import statsmodels.api as sm\n",
    "import matplotlib.pyplot as plt\n",
    "import seaborn as sns\n",
    "from scipy.stats import probplot\n",
    "from scipy.stats import expon\n",
    "from scipy.stats import kstest\n",
    "from scipy.stats import uniform\n",
    "import yaml\n",
    "\n",
    "import jax.config as jax_config\n",
    "\n",
    "sys.path.append('../')\n",
    "sys.path.append('../../')\n",
    "sys.path.append('../../src')\n",
    "\n",
    "from src.variational_inference import hawkes_temporal_memory_decay_background_variational_inference as VI\n",
    "\n",
    "\n",
    "from scipy.interpolate import CubicSpline"
   ]
  },
  {
   "cell_type": "code",
   "execution_count": 2,
   "metadata": {},
   "outputs": [],
   "source": [
    "SMALL_SIZE = 10\n",
    "MEDIUM_SIZE = 12\n",
    "BIGGER_SIZE = 16\n",
    "\n",
    "plt.rc('font', size=SMALL_SIZE)          # controls default text sizes\n",
    "plt.rc('axes', titlesize=SMALL_SIZE)     # fontsize of the axes title\n",
    "plt.rc('axes', labelsize=MEDIUM_SIZE)    # fontsize of the x and y labels\n",
    "plt.rc('xtick', labelsize=SMALL_SIZE)    # fontsize of the tick labels\n",
    "plt.rc('ytick', labelsize=SMALL_SIZE)    # fontsize of the tick labels\n",
    "plt.rc('legend', fontsize=MEDIUM_SIZE)    # legend fontsize\n",
    "plt.rc('figure', titlesize=BIGGER_SIZE)\n",
    "plt.rc('font', family='serif')"
   ]
  },
  {
   "cell_type": "code",
   "execution_count": 6,
   "metadata": {},
   "outputs": [],
   "source": [
    "results_folder = './results/vanc/low_alpha/20220131-130817_vanc_gpu_1/'\n",
    "input_file = 'data_input.yml'\n",
    "data_file = 'data.p'\n",
    "results_file = 'res.p'"
   ]
  },
  {
   "cell_type": "code",
   "execution_count": 33,
   "metadata": {},
   "outputs": [
    {
     "data": {
      "image/png": "[encoded data removed]",
      "text/plain": [
       "<Figure size 720x216 with 1 Axes>"
      ]
     },
     "metadata": {
      "needs_background": "light"
     },
     "output_type": "display_data"
    }
   ],
   "source": [
    "res_input_file = os.path.join(results_folder, input_file)\n",
    "res_data_file = os.path.join(results_folder, data_file)\n",
    "res_results_file = os.path.join(results_folder, results_file)\n",
    "\n",
    "with open(res_data_file, 'rb') as f:\n",
    "    dat = pickle.load(f)\n",
    "with open(res_input_file, 'rb') as stream:\n",
    "    config = yaml.safe_load(stream)        \n",
    "num_trials = len(dat)\n",
    "num_events = [len(dat[n]) for n in range(num_trials)]\n",
    "num_events = [0] + num_events\n",
    "num_events_cumsum = np.cumsum(np.array(num_events))\n",
    "\n",
    "num_induced_points = config['num_inducing_points']\n",
    "num_integration_points = config['num_integration_points']\n",
    "hypers_array = [0, 0, 0, 0]\n",
    "T = dat[0][-1] + 0.5\n",
    "\n",
    "hawkes_vi_obj = VI(T, hypers_array[-1], num_induced_points, alpha_0=4, betta_0=0.06,\n",
    "         lmbda_star=None, conv_crit=1e-4,\n",
    "         num_integration_points=num_integration_points,\n",
    "         noise=1e-4)\n",
    "\n",
    "with open(res_results_file, 'rb') as f:\n",
    "    # hawkes_vi_obj.LB_list, hawkes_vi_obj.mu_g_X, hawkes_vi_obj.mu_g2_X, hawkes_vi_obj.hyper_params_list,\n",
    "    # hawkes_vi_obj.induced_points, hawkes_vi_obj.integration_points, hawkes_vi_obj.Kss_inv, hawkes_vi_obj.ks_int_points,\n",
    "    # hawkes_vi_obj.ks_X, hawkes_vi_obj.real_events, hawkes_vi_obj.Sigma_g_s, hawkes_vi_obj.mu_g_s, hawkes_vi_obj.lmbda_star_q1, hawkes_vi_obj.alpha_q1,\n",
    "    # hawkes_vi_obj.beta_q1, hawkes_vi_obj.test_log_like_list, hawkes_vi_obj.mu_g2_int_points, hawkes_vi_obj.mu_g_int_points,\n",
    "    # hawkes_vi_obj.log_lmbda_star_q1 = pickle.load(f)\n",
    "    res = pickle.load(f)\n",
    "\n",
    "lim = 80\n",
    "for i in range(num_trials):\n",
    "    plt.figure(figsize=(10, 3))\n",
    "    # plt.plot(test_grid[0], mean_lmbda_pred[i*len(test_grid[0]):(i+1)*len(test_grid[0])])\n",
    "    plt.plot(dat[i][:lim], res[1][:lim], '--o', color='C2', markersize=4)\n",
    "    plt.plot(dat[i][:lim], np.repeat(min(res[1][:lim]) - 1.5, len(dat[i][:lim])), '|', color='C7', markersize=10)\n",
    "    plt.xlabel('Time [d]')\n",
    "    plt.ylabel('Linear Intensity')\n",
    "    #for event in dat[0]:\n",
    "     #   plt.axvline(x=event, color='r', linewidth=0.4)\n",
    "    plt.tight_layout()\n",
    "    plt.savefig(f'vanc_intensities.pdf', format='pdf', dpi=300)\n",
    "    plt.show()"
   ]
  },
  {
   "cell_type": "code",
   "execution_count": 16,
   "metadata": {},
   "outputs": [
    {
     "data": {
      "text/plain": [
       "519"
      ]
     },
     "execution_count": 16,
     "metadata": {},
     "output_type": "execute_result"
    }
   ],
   "source": [
    "len(dat[0])"
   ]
  },
  {
   "cell_type": "code",
   "execution_count": 29,
   "metadata": {},
   "outputs": [],
   "source": [
    "hawkes_vi_obj.mu_g2_X"
   ]
  },
  {
   "cell_type": "code",
   "execution_count": 17,
   "metadata": {},
   "outputs": [
    {
     "ename": "ValueError",
     "evalue": "peek of closed file",
     "output_type": "error",
     "traceback": [
      "\u001b[0;31m---------------------------------------------------------------------------\u001b[0m",
      "\u001b[0;31mValueError\u001b[0m                                Traceback (most recent call last)",
      "\u001b[0;32m<ipython-input-17-1d085ed97ea2>\u001b[0m in \u001b[0;36m<module>\u001b[0;34m\u001b[0m\n\u001b[0;32m----> 1\u001b[0;31m \u001b[0mres\u001b[0m \u001b[0;34m=\u001b[0m \u001b[0mpickle\u001b[0m\u001b[0;34m.\u001b[0m\u001b[0mload\u001b[0m\u001b[0;34m(\u001b[0m\u001b[0mf\u001b[0m\u001b[0;34m)\u001b[0m\u001b[0;34m\u001b[0m\u001b[0;34m\u001b[0m\u001b[0m\n\u001b[0m",
      "\u001b[0;31mValueError\u001b[0m: peek of closed file"
     ]
    }
   ],
   "source": [
    "res = pickle.load(f)"
   ]
  },
  {
   "cell_type": "code",
   "execution_count": null,
   "metadata": {},
   "outputs": [],
   "source": []
  }
 ],
 "metadata": {
  "kernelspec": {
   "display_name": "Python 3",
   "language": "python",
   "name": "python3"
  },
  "language_info": {
   "codemirror_mode": {
    "name": "ipython",
    "version": 3
   },
   "file_extension": ".py",
   "mimetype": "text/x-python",
   "name": "python",
   "nbconvert_exporter": "python",
   "pygments_lexer": "ipython3",
   "version": "3.7.4"
  }
 },
 "nbformat": 4,
 "nbformat_minor": 4
}
