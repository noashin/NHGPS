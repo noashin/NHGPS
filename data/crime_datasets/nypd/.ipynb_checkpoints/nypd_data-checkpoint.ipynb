{
 "cells": [
  {
   "cell_type": "code",
   "execution_count": 1,
   "metadata": {},
   "outputs": [],
   "source": [
    "import pickle\n",
    "import yaml\n",
    "import pandas as pd\n",
    "import numpy as np"
   ]
  },
  {
   "cell_type": "code",
   "execution_count": 2,
   "metadata": {},
   "outputs": [],
   "source": [
    "df = pd.read_excel('../data/nypd/NYPD_Complaint_Data_Current_YTD.xlsx', engine='openpyxl')"
   ]
  },
  {
   "cell_type": "code",
   "execution_count": 3,
   "metadata": {},
   "outputs": [],
   "source": [
    "sub_df = df[df['OFNS_DESC'] =='PETIT LARCENY']"
   ]
  },
  {
   "cell_type": "code",
   "execution_count": 4,
   "metadata": {},
   "outputs": [],
   "source": [
    "train_df = sub_df[sub_df['BORO_NM'] == 'BROOKLYN']\n",
    "test_df = sub_df[sub_df['BORO_NM'] == 'QUEENS']"
   ]
  },
  {
   "cell_type": "code",
   "execution_count": 5,
   "metadata": {},
   "outputs": [
    {
     "name": "stderr",
     "output_type": "stream",
     "text": [
      "/home/noashin/.pyenv/versions/3.7.4/envs/hawkes/lib/python3.7/site-packages/ipykernel_launcher.py:1: SettingWithCopyWarning: \n",
      "A value is trying to be set on a copy of a slice from a DataFrame.\n",
      "Try using .loc[row_indexer,col_indexer] = value instead\n",
      "\n",
      "See the caveats in the documentation: https://pandas.pydata.org/pandas-docs/stable/user_guide/indexing.html#returning-a-view-versus-a-copy\n",
      "  \"\"\"Entry point for launching an IPython kernel.\n",
      "/home/noashin/.pyenv/versions/3.7.4/envs/hawkes/lib/python3.7/site-packages/ipykernel_launcher.py:2: SettingWithCopyWarning: \n",
      "A value is trying to be set on a copy of a slice from a DataFrame.\n",
      "Try using .loc[row_indexer,col_indexer] = value instead\n",
      "\n",
      "See the caveats in the documentation: https://pandas.pydata.org/pandas-docs/stable/user_guide/indexing.html#returning-a-view-versus-a-copy\n",
      "  \n"
     ]
    }
   ],
   "source": [
    "train_df['clean_date'] = pd.to_datetime(train_df['CMPLNT_FR_DT'])\n",
    "test_df['clean_date'] = pd.to_datetime(test_df['CMPLNT_FR_DT'])"
   ]
  },
  {
   "cell_type": "code",
   "execution_count": 6,
   "metadata": {},
   "outputs": [],
   "source": [
    "def get_dates_arr_from_df(df):\n",
    "    dates_2016 = []\n",
    "    for i in range(10808):\n",
    "        try:\n",
    "            date = pd.datetime.combine(df.iloc[i, -1], df.iloc[i, 2])\n",
    "            if date.year == 2016:\n",
    "                dates_2016.append(date.timestamp())\n",
    "        except:\n",
    "            #print(train_df.iloc[i,-1], train_df.iloc[i, 2])\n",
    "            continue\n",
    "    dates_2016_arr = np.array(dates_2016)\n",
    "    dates_2016_so = np.sort(dates_2016_arr)\n",
    "    dates_2016_so_0 = dates_2016_so - dates_2016_so[0]\n",
    "    dates_2016_so_0_uni = np.unique(dates_2016_so_0)\n",
    "    dates_2016_days = dates_2016_so_0_uni / 3600 / 24\n",
    "    \n",
    "    return dates_2016_days"
   ]
  },
  {
   "cell_type": "code",
   "execution_count": null,
   "metadata": {},
   "outputs": [],
   "source": [
    "train_data = get_dates_arr_from_df(train_df)\n",
    "test_data = get_dates_arr_from_df(test_df)"
   ]
  },
  {
   "cell_type": "code",
   "execution_count": null,
   "metadata": {},
   "outputs": [],
   "source": [
    "train_data.shape, test_data.shape"
   ]
  },
  {
   "cell_type": "code",
   "execution_count": null,
   "metadata": {},
   "outputs": [],
   "source": [
    "with open('../data/nypd/train_data.p', 'wb') as f:\n",
    "    pickle.dump([train_data], f)\n",
    "with open('../data/nypd/test_data.p', 'wb') as f:\n",
    "    pickle.dump([test_data], f)"
   ]
  },
  {
   "cell_type": "code",
   "execution_count": null,
   "metadata": {},
   "outputs": [],
   "source": [
    "config = {'adapt_grad_step_size': False,\n",
    "'data': './datasets/nypd/train_data.p',\n",
    "'convergence_criteria': 1.0e-04,\n",
    "'display_output': True,\n",
    "'frozen_kernel_cov': False,\n",
    "'frozen_kernel_s_amp': False,\n",
    "'frozen_kernel_s_cov': False,\n",
    "'frozen_memory_decay': False,\n",
    "'grad_step_size': 0.01,\n",
    "'hyper_updates': 1,\n",
    "'infer_hypers': True,\n",
    "'infer_max_intensity': True,\n",
    "'init_val_for_kernel_cov': 50,\n",
    "'init_val_for_memory_decay': 50.,\n",
    "'init_val_for_kernel_s_amp': 5.,\n",
    "'init_val_for_kernel_s_cov': 200.,\n",
    "'intensity_bound': 3.,\n",
    "'lambda_a_prior': 1.3,\n",
    "'lambda_b_prior': 0.1,\n",
    "'memory_decay': 10.0,\n",
    "'min_num_iterations': 10,\n",
    "'num_inducing_points': 300,\n",
    "'num_integration_points': 3000,\n",
    "'num_test_grid_points': 500,\n",
    "'real_data': True,\n",
    "'save_steps': True,\n",
    "'start_from_given': True,\n",
    "'time_bound': 366,\n",
    "'use_history': True}\n",
    "\n",
    "with open(f'../data/nypd/settings_for_nypd_train_data_5.yml', 'w') as f:\n",
    "    yaml.dump(config, f)"
   ]
  },
  {
   "cell_type": "code",
   "execution_count": null,
   "metadata": {},
   "outputs": [],
   "source": [
    "365*24"
   ]
  },
  {
   "cell_type": "code",
   "execution_count": null,
   "metadata": {},
   "outputs": [],
   "source": []
  }
 ],
 "metadata": {
  "kernelspec": {
   "display_name": "Python 3",
   "language": "python",
   "name": "python3"
  },
  "language_info": {
   "codemirror_mode": {
    "name": "ipython",
    "version": 3
   },
   "file_extension": ".py",
   "mimetype": "text/x-python",
   "name": "python",
   "nbconvert_exporter": "python",
   "pygments_lexer": "ipython3",
   "version": "3.7.4"
  }
 },
 "nbformat": 4,
 "nbformat_minor": 4
}
