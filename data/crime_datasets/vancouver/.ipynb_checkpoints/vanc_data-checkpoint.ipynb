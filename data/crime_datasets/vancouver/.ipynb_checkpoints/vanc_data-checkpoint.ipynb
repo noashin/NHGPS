{
 "cells": [
  {
   "cell_type": "code",
   "execution_count": 1,
   "metadata": {},
   "outputs": [],
   "source": [
    "%matplotlib inline\n",
    "\n",
    "import pickle\n",
    "\n",
    "import yaml\n",
    "import pandas as pd\n",
    "import numpy as np\n",
    "import matplotlib.pyplot as plt"
   ]
  },
  {
   "cell_type": "code",
   "execution_count": 2,
   "metadata": {},
   "outputs": [],
   "source": [
    "df = pd.read_csv('../data/vancouver_crime/crime.csv')"
   ]
  },
  {
   "cell_type": "code",
   "execution_count": 3,
   "metadata": {},
   "outputs": [
    {
     "data": {
      "text/html": [
       "<div>\n",
       "<style scoped>\n",
       "    .dataframe tbody tr th:only-of-type {\n",
       "        vertical-align: middle;\n",
       "    }\n",
       "\n",
       "    .dataframe tbody tr th {\n",
       "        vertical-align: top;\n",
       "    }\n",
       "\n",
       "    .dataframe thead th {\n",
       "        text-align: right;\n",
       "    }\n",
       "</style>\n",
       "<table border=\"1\" class=\"dataframe\">\n",
       "  <thead>\n",
       "    <tr style=\"text-align: right;\">\n",
       "      <th></th>\n",
       "      <th>TYPE</th>\n",
       "      <th>YEAR</th>\n",
       "      <th>MONTH</th>\n",
       "      <th>DAY</th>\n",
       "      <th>HOUR</th>\n",
       "      <th>MINUTE</th>\n",
       "      <th>HUNDRED_BLOCK</th>\n",
       "      <th>NEIGHBOURHOOD</th>\n",
       "      <th>X</th>\n",
       "      <th>Y</th>\n",
       "      <th>Latitude</th>\n",
       "      <th>Longitude</th>\n",
       "    </tr>\n",
       "  </thead>\n",
       "  <tbody>\n",
       "    <tr>\n",
       "      <th>0</th>\n",
       "      <td>Other Theft</td>\n",
       "      <td>2003</td>\n",
       "      <td>5</td>\n",
       "      <td>12</td>\n",
       "      <td>16.0</td>\n",
       "      <td>15.0</td>\n",
       "      <td>9XX TERMINAL AVE</td>\n",
       "      <td>Strathcona</td>\n",
       "      <td>493906.5</td>\n",
       "      <td>5457452.47</td>\n",
       "      <td>49.269802</td>\n",
       "      <td>-123.083763</td>\n",
       "    </tr>\n",
       "    <tr>\n",
       "      <th>1</th>\n",
       "      <td>Other Theft</td>\n",
       "      <td>2003</td>\n",
       "      <td>5</td>\n",
       "      <td>7</td>\n",
       "      <td>15.0</td>\n",
       "      <td>20.0</td>\n",
       "      <td>9XX TERMINAL AVE</td>\n",
       "      <td>Strathcona</td>\n",
       "      <td>493906.5</td>\n",
       "      <td>5457452.47</td>\n",
       "      <td>49.269802</td>\n",
       "      <td>-123.083763</td>\n",
       "    </tr>\n",
       "    <tr>\n",
       "      <th>2</th>\n",
       "      <td>Other Theft</td>\n",
       "      <td>2003</td>\n",
       "      <td>4</td>\n",
       "      <td>23</td>\n",
       "      <td>16.0</td>\n",
       "      <td>40.0</td>\n",
       "      <td>9XX TERMINAL AVE</td>\n",
       "      <td>Strathcona</td>\n",
       "      <td>493906.5</td>\n",
       "      <td>5457452.47</td>\n",
       "      <td>49.269802</td>\n",
       "      <td>-123.083763</td>\n",
       "    </tr>\n",
       "    <tr>\n",
       "      <th>3</th>\n",
       "      <td>Other Theft</td>\n",
       "      <td>2003</td>\n",
       "      <td>4</td>\n",
       "      <td>20</td>\n",
       "      <td>11.0</td>\n",
       "      <td>15.0</td>\n",
       "      <td>9XX TERMINAL AVE</td>\n",
       "      <td>Strathcona</td>\n",
       "      <td>493906.5</td>\n",
       "      <td>5457452.47</td>\n",
       "      <td>49.269802</td>\n",
       "      <td>-123.083763</td>\n",
       "    </tr>\n",
       "    <tr>\n",
       "      <th>4</th>\n",
       "      <td>Other Theft</td>\n",
       "      <td>2003</td>\n",
       "      <td>4</td>\n",
       "      <td>12</td>\n",
       "      <td>17.0</td>\n",
       "      <td>45.0</td>\n",
       "      <td>9XX TERMINAL AVE</td>\n",
       "      <td>Strathcona</td>\n",
       "      <td>493906.5</td>\n",
       "      <td>5457452.47</td>\n",
       "      <td>49.269802</td>\n",
       "      <td>-123.083763</td>\n",
       "    </tr>\n",
       "  </tbody>\n",
       "</table>\n",
       "</div>"
      ],
      "text/plain": [
       "          TYPE  YEAR  MONTH  DAY  HOUR  MINUTE     HUNDRED_BLOCK  \\\n",
       "0  Other Theft  2003      5   12  16.0    15.0  9XX TERMINAL AVE   \n",
       "1  Other Theft  2003      5    7  15.0    20.0  9XX TERMINAL AVE   \n",
       "2  Other Theft  2003      4   23  16.0    40.0  9XX TERMINAL AVE   \n",
       "3  Other Theft  2003      4   20  11.0    15.0  9XX TERMINAL AVE   \n",
       "4  Other Theft  2003      4   12  17.0    45.0  9XX TERMINAL AVE   \n",
       "\n",
       "  NEIGHBOURHOOD         X           Y   Latitude   Longitude  \n",
       "0    Strathcona  493906.5  5457452.47  49.269802 -123.083763  \n",
       "1    Strathcona  493906.5  5457452.47  49.269802 -123.083763  \n",
       "2    Strathcona  493906.5  5457452.47  49.269802 -123.083763  \n",
       "3    Strathcona  493906.5  5457452.47  49.269802 -123.083763  \n",
       "4    Strathcona  493906.5  5457452.47  49.269802 -123.083763  "
      ]
     },
     "execution_count": 3,
     "metadata": {},
     "output_type": "execute_result"
    }
   ],
   "source": [
    "df.head()"
   ]
  },
  {
   "cell_type": "code",
   "execution_count": 4,
   "metadata": {},
   "outputs": [
    {
     "data": {
      "text/plain": [
       "array(['Other Theft', 'Break and Enter Residential/Other', 'Mischief',\n",
       "       'Break and Enter Commercial', 'Offence Against a Person',\n",
       "       'Theft from Vehicle',\n",
       "       'Vehicle Collision or Pedestrian Struck (with Injury)',\n",
       "       'Vehicle Collision or Pedestrian Struck (with Fatality)',\n",
       "       'Theft of Vehicle', 'Homicide', 'Theft of Bicycle'], dtype=object)"
      ]
     },
     "execution_count": 4,
     "metadata": {},
     "output_type": "execute_result"
    }
   ],
   "source": [
    "df['TYPE'].unique()"
   ]
  },
  {
   "cell_type": "code",
   "execution_count": 5,
   "metadata": {},
   "outputs": [
    {
     "data": {
      "text/plain": [
       "array(['Strathcona', 'Kerrisdale', 'Dunbar-Southlands',\n",
       "       'Grandview-Woodland', 'Sunset', 'West End', nan,\n",
       "       'Central Business District', 'Hastings-Sunrise',\n",
       "       'Victoria-Fraserview', 'Fairview', 'Kensington-Cedar Cottage',\n",
       "       'West Point Grey', 'Shaughnessy', 'Renfrew-Collingwood',\n",
       "       'Killarney', 'Riley Park', 'Arbutus Ridge', 'Musqueam',\n",
       "       'Mount Pleasant', 'Kitsilano', 'Stanley Park', 'South Cambie',\n",
       "       'Marpole', 'Oakridge'], dtype=object)"
      ]
     },
     "execution_count": 5,
     "metadata": {},
     "output_type": "execute_result"
    }
   ],
   "source": [
    "df['NEIGHBOURHOOD'].unique()"
   ]
  },
  {
   "cell_type": "code",
   "execution_count": 6,
   "metadata": {},
   "outputs": [
    {
     "name": "stderr",
     "output_type": "stream",
     "text": [
      "/home/noashin/.pyenv/versions/3.7.4/envs/hawkes/lib/python3.7/site-packages/ipykernel_launcher.py:1: UserWarning: Boolean Series key will be reindexed to match DataFrame index.\n",
      "  \"\"\"Entry point for launching an IPython kernel.\n"
     ]
    }
   ],
   "source": [
    "sub_df = df[df['NEIGHBOURHOOD'] == 'Central Business District'][df['TYPE'] == 'Other Theft']"
   ]
  },
  {
   "cell_type": "code",
   "execution_count": 7,
   "metadata": {},
   "outputs": [],
   "source": [
    "sub_df = sub_df[sub_df['YEAR'] == 2016]\n",
    "sub_df = sub_df[sub_df['MONTH'] > 5]\n",
    "sub_df = sub_df[sub_df['MONTH'] < 12]"
   ]
  },
  {
   "cell_type": "code",
   "execution_count": 8,
   "metadata": {},
   "outputs": [
    {
     "data": {
      "text/html": [
       "<div>\n",
       "<style scoped>\n",
       "    .dataframe tbody tr th:only-of-type {\n",
       "        vertical-align: middle;\n",
       "    }\n",
       "\n",
       "    .dataframe tbody tr th {\n",
       "        vertical-align: top;\n",
       "    }\n",
       "\n",
       "    .dataframe thead th {\n",
       "        text-align: right;\n",
       "    }\n",
       "</style>\n",
       "<table border=\"1\" class=\"dataframe\">\n",
       "  <thead>\n",
       "    <tr style=\"text-align: right;\">\n",
       "      <th></th>\n",
       "      <th>TYPE</th>\n",
       "      <th>YEAR</th>\n",
       "      <th>MONTH</th>\n",
       "      <th>DAY</th>\n",
       "      <th>HOUR</th>\n",
       "      <th>MINUTE</th>\n",
       "      <th>HUNDRED_BLOCK</th>\n",
       "      <th>NEIGHBOURHOOD</th>\n",
       "      <th>X</th>\n",
       "      <th>Y</th>\n",
       "      <th>Latitude</th>\n",
       "      <th>Longitude</th>\n",
       "    </tr>\n",
       "  </thead>\n",
       "  <tbody>\n",
       "    <tr>\n",
       "      <th>487981</th>\n",
       "      <td>Other Theft</td>\n",
       "      <td>2016</td>\n",
       "      <td>6</td>\n",
       "      <td>1</td>\n",
       "      <td>11.0</td>\n",
       "      <td>2.0</td>\n",
       "      <td>3XX ABBOTT ST</td>\n",
       "      <td>Central Business District</td>\n",
       "      <td>492213.87</td>\n",
       "      <td>5458862.65</td>\n",
       "      <td>49.282468</td>\n",
       "      <td>-123.107058</td>\n",
       "    </tr>\n",
       "    <tr>\n",
       "      <th>502886</th>\n",
       "      <td>Other Theft</td>\n",
       "      <td>2016</td>\n",
       "      <td>6</td>\n",
       "      <td>1</td>\n",
       "      <td>12.0</td>\n",
       "      <td>16.0</td>\n",
       "      <td>5XX W HASTINGS ST</td>\n",
       "      <td>Central Business District</td>\n",
       "      <td>491826.94</td>\n",
       "      <td>5459079.69</td>\n",
       "      <td>49.284415</td>\n",
       "      <td>-123.112383</td>\n",
       "    </tr>\n",
       "    <tr>\n",
       "      <th>489436</th>\n",
       "      <td>Other Theft</td>\n",
       "      <td>2016</td>\n",
       "      <td>6</td>\n",
       "      <td>1</td>\n",
       "      <td>13.0</td>\n",
       "      <td>49.0</td>\n",
       "      <td>7XX GRANVILLE ST</td>\n",
       "      <td>Central Business District</td>\n",
       "      <td>491394.12</td>\n",
       "      <td>5458844.26</td>\n",
       "      <td>49.282291</td>\n",
       "      <td>-123.118329</td>\n",
       "    </tr>\n",
       "    <tr>\n",
       "      <th>488187</th>\n",
       "      <td>Other Theft</td>\n",
       "      <td>2016</td>\n",
       "      <td>6</td>\n",
       "      <td>1</td>\n",
       "      <td>15.0</td>\n",
       "      <td>46.0</td>\n",
       "      <td>3XX ABBOTT ST</td>\n",
       "      <td>Central Business District</td>\n",
       "      <td>492213.87</td>\n",
       "      <td>5458862.65</td>\n",
       "      <td>49.282468</td>\n",
       "      <td>-123.107058</td>\n",
       "    </tr>\n",
       "    <tr>\n",
       "      <th>482261</th>\n",
       "      <td>Other Theft</td>\n",
       "      <td>2016</td>\n",
       "      <td>6</td>\n",
       "      <td>1</td>\n",
       "      <td>16.0</td>\n",
       "      <td>22.0</td>\n",
       "      <td>7XX GRANVILLE ST</td>\n",
       "      <td>Central Business District</td>\n",
       "      <td>491295.24</td>\n",
       "      <td>5458744.77</td>\n",
       "      <td>49.281395</td>\n",
       "      <td>-123.119687</td>\n",
       "    </tr>\n",
       "    <tr>\n",
       "      <th>...</th>\n",
       "      <td>...</td>\n",
       "      <td>...</td>\n",
       "      <td>...</td>\n",
       "      <td>...</td>\n",
       "      <td>...</td>\n",
       "      <td>...</td>\n",
       "      <td>...</td>\n",
       "      <td>...</td>\n",
       "      <td>...</td>\n",
       "      <td>...</td>\n",
       "      <td>...</td>\n",
       "      <td>...</td>\n",
       "    </tr>\n",
       "    <tr>\n",
       "      <th>493352</th>\n",
       "      <td>Other Theft</td>\n",
       "      <td>2016</td>\n",
       "      <td>11</td>\n",
       "      <td>30</td>\n",
       "      <td>12.0</td>\n",
       "      <td>55.0</td>\n",
       "      <td>5XX W HASTINGS ST</td>\n",
       "      <td>Central Business District</td>\n",
       "      <td>491827.08</td>\n",
       "      <td>5459079.55</td>\n",
       "      <td>49.284414</td>\n",
       "      <td>-123.112381</td>\n",
       "    </tr>\n",
       "    <tr>\n",
       "      <th>494939</th>\n",
       "      <td>Other Theft</td>\n",
       "      <td>2016</td>\n",
       "      <td>11</td>\n",
       "      <td>30</td>\n",
       "      <td>15.0</td>\n",
       "      <td>32.0</td>\n",
       "      <td>3XX ABBOTT ST</td>\n",
       "      <td>Central Business District</td>\n",
       "      <td>492213.87</td>\n",
       "      <td>5458862.65</td>\n",
       "      <td>49.282468</td>\n",
       "      <td>-123.107058</td>\n",
       "    </tr>\n",
       "    <tr>\n",
       "      <th>489553</th>\n",
       "      <td>Other Theft</td>\n",
       "      <td>2016</td>\n",
       "      <td>11</td>\n",
       "      <td>30</td>\n",
       "      <td>16.0</td>\n",
       "      <td>14.0</td>\n",
       "      <td>6XX GRANVILLE ST</td>\n",
       "      <td>Central Business District</td>\n",
       "      <td>491444.61</td>\n",
       "      <td>5458895.10</td>\n",
       "      <td>49.282749</td>\n",
       "      <td>-123.117636</td>\n",
       "    </tr>\n",
       "    <tr>\n",
       "      <th>495103</th>\n",
       "      <td>Other Theft</td>\n",
       "      <td>2016</td>\n",
       "      <td>11</td>\n",
       "      <td>30</td>\n",
       "      <td>19.0</td>\n",
       "      <td>20.0</td>\n",
       "      <td>3XX ABBOTT ST</td>\n",
       "      <td>Central Business District</td>\n",
       "      <td>492213.87</td>\n",
       "      <td>5458862.65</td>\n",
       "      <td>49.282468</td>\n",
       "      <td>-123.107058</td>\n",
       "    </tr>\n",
       "    <tr>\n",
       "      <th>485788</th>\n",
       "      <td>Other Theft</td>\n",
       "      <td>2016</td>\n",
       "      <td>11</td>\n",
       "      <td>30</td>\n",
       "      <td>20.0</td>\n",
       "      <td>30.0</td>\n",
       "      <td>3XX ABBOTT ST</td>\n",
       "      <td>Central Business District</td>\n",
       "      <td>492218.71</td>\n",
       "      <td>5458879.66</td>\n",
       "      <td>49.282621</td>\n",
       "      <td>-123.106992</td>\n",
       "    </tr>\n",
       "  </tbody>\n",
       "</table>\n",
       "<p>1035 rows × 12 columns</p>\n",
       "</div>"
      ],
      "text/plain": [
       "               TYPE  YEAR  MONTH  DAY  HOUR  MINUTE      HUNDRED_BLOCK  \\\n",
       "487981  Other Theft  2016      6    1  11.0     2.0      3XX ABBOTT ST   \n",
       "502886  Other Theft  2016      6    1  12.0    16.0  5XX W HASTINGS ST   \n",
       "489436  Other Theft  2016      6    1  13.0    49.0   7XX GRANVILLE ST   \n",
       "488187  Other Theft  2016      6    1  15.0    46.0      3XX ABBOTT ST   \n",
       "482261  Other Theft  2016      6    1  16.0    22.0   7XX GRANVILLE ST   \n",
       "...             ...   ...    ...  ...   ...     ...                ...   \n",
       "493352  Other Theft  2016     11   30  12.0    55.0  5XX W HASTINGS ST   \n",
       "494939  Other Theft  2016     11   30  15.0    32.0      3XX ABBOTT ST   \n",
       "489553  Other Theft  2016     11   30  16.0    14.0   6XX GRANVILLE ST   \n",
       "495103  Other Theft  2016     11   30  19.0    20.0      3XX ABBOTT ST   \n",
       "485788  Other Theft  2016     11   30  20.0    30.0      3XX ABBOTT ST   \n",
       "\n",
       "                    NEIGHBOURHOOD          X           Y   Latitude  \\\n",
       "487981  Central Business District  492213.87  5458862.65  49.282468   \n",
       "502886  Central Business District  491826.94  5459079.69  49.284415   \n",
       "489436  Central Business District  491394.12  5458844.26  49.282291   \n",
       "488187  Central Business District  492213.87  5458862.65  49.282468   \n",
       "482261  Central Business District  491295.24  5458744.77  49.281395   \n",
       "...                           ...        ...         ...        ...   \n",
       "493352  Central Business District  491827.08  5459079.55  49.284414   \n",
       "494939  Central Business District  492213.87  5458862.65  49.282468   \n",
       "489553  Central Business District  491444.61  5458895.10  49.282749   \n",
       "495103  Central Business District  492213.87  5458862.65  49.282468   \n",
       "485788  Central Business District  492218.71  5458879.66  49.282621   \n",
       "\n",
       "         Longitude  \n",
       "487981 -123.107058  \n",
       "502886 -123.112383  \n",
       "489436 -123.118329  \n",
       "488187 -123.107058  \n",
       "482261 -123.119687  \n",
       "...            ...  \n",
       "493352 -123.112381  \n",
       "494939 -123.107058  \n",
       "489553 -123.117636  \n",
       "495103 -123.107058  \n",
       "485788 -123.106992  \n",
       "\n",
       "[1035 rows x 12 columns]"
      ]
     },
     "execution_count": 8,
     "metadata": {},
     "output_type": "execute_result"
    }
   ],
   "source": [
    "sub_df= sub_df.sort_values(['MONTH', 'DAY', 'HOUR', 'MINUTE'])\n",
    "sub_df"
   ]
  },
  {
   "cell_type": "code",
   "execution_count": 9,
   "metadata": {},
   "outputs": [],
   "source": [
    "sub_df['date'] = pd.to_datetime(sub_df[['YEAR', 'MONTH', 'DAY', 'HOUR', 'MINUTE']])"
   ]
  },
  {
   "cell_type": "code",
   "execution_count": 10,
   "metadata": {},
   "outputs": [],
   "source": [
    "events = sub_df['date'].astype(int).to_numpy()"
   ]
  },
  {
   "cell_type": "code",
   "execution_count": 11,
   "metadata": {},
   "outputs": [],
   "source": [
    "events -= events[0]"
   ]
  },
  {
   "cell_type": "code",
   "execution_count": 12,
   "metadata": {},
   "outputs": [],
   "source": [
    "events_s = events * 1e-9"
   ]
  },
  {
   "cell_type": "code",
   "execution_count": 13,
   "metadata": {},
   "outputs": [],
   "source": [
    "events_h = events_s / 3600"
   ]
  },
  {
   "cell_type": "code",
   "execution_count": 14,
   "metadata": {},
   "outputs": [],
   "source": [
    "events_d = events_h / 24"
   ]
  },
  {
   "cell_type": "code",
   "execution_count": 15,
   "metadata": {},
   "outputs": [],
   "source": [
    "events_d = np.round(events_d, 3)"
   ]
  },
  {
   "cell_type": "code",
   "execution_count": 16,
   "metadata": {},
   "outputs": [
    {
     "data": {
      "text/plain": [
       "(1035, 1030)"
      ]
     },
     "execution_count": 16,
     "metadata": {},
     "output_type": "execute_result"
    }
   ],
   "source": [
    "len(events_d), len(np.unique(events_d))"
   ]
  },
  {
   "cell_type": "code",
   "execution_count": 17,
   "metadata": {},
   "outputs": [],
   "source": [
    "events_d[0] = 0.001\n",
    "seen_events = []\n",
    "c = 0\n",
    "for event in events_d:\n",
    "    if event in seen_events:\n",
    "        event += 0.001\n",
    "        c+=1\n",
    "    seen_events.append(event)"
   ]
  },
  {
   "cell_type": "code",
   "execution_count": 18,
   "metadata": {},
   "outputs": [
    {
     "data": {
      "text/plain": [
       "(1035, 1035)"
      ]
     },
     "execution_count": 18,
     "metadata": {},
     "output_type": "execute_result"
    }
   ],
   "source": [
    "events_d = np.array(seen_events)\n",
    "len(events_d), len(np.unique(events_d))"
   ]
  },
  {
   "cell_type": "code",
   "execution_count": 19,
   "metadata": {},
   "outputs": [],
   "source": [
    "train_events = [events_d[:519]]\n",
    "test_events = [events_d[519:] - events_d[519]]"
   ]
  },
  {
   "cell_type": "code",
   "execution_count": 20,
   "metadata": {},
   "outputs": [],
   "source": [
    "#with open('../data/vancouver_crime/train_data.p', 'wb') as f:\n",
    " #   pickle.dump(train_events, f)\n",
    "\n",
    "with open('../data/vancouver_crime/test_data_2.p', 'wb') as f:\n",
    "    pickle.dump(test_events, f)"
   ]
  },
  {
   "cell_type": "code",
   "execution_count": 25,
   "metadata": {},
   "outputs": [
    {
     "data": {
      "text/plain": [
       "(91.197, 91.158)"
      ]
     },
     "execution_count": 25,
     "metadata": {},
     "output_type": "execute_result"
    }
   ],
   "source": [
    "test_events[0][-1], train_events[0][-1]"
   ]
  },
  {
   "cell_type": "code",
   "execution_count": 30,
   "metadata": {},
   "outputs": [],
   "source": [
    "config = {'adapt_grad_step_size': False,\n",
    "'data': './datasets/vancouver_crime/train_data.p',\n",
    "'convergence_criteria': 1.0e-04,\n",
    "'display_output': True,\n",
    "'frozen_kernel_cov': False,\n",
    "'frozen_kernel_s_amp': False,\n",
    "'frozen_kernel_s_cov': False,\n",
    "'frozen_memory_decay': False,\n",
    "'grad_step_size': 0.01,\n",
    "'hyper_updates': 1,\n",
    "'infer_hypers': True,\n",
    "'infer_max_intensity': True,\n",
    "'init_val_for_kernel_cov': 10,\n",
    "'init_val_for_memory_decay': 50.,\n",
    "'init_val_for_kernel_s_amp': 2.,\n",
    "'init_val_for_kernel_s_cov': 150.,\n",
    "'intensity_bound': 3.,\n",
    "'lambda_a_prior': 1.5,\n",
    "'lambda_b_prior': 0.1,\n",
    "'memory_decay': 10.0,\n",
    "'min_num_iterations': 10,\n",
    "'num_inducing_points': 250,\n",
    "'num_integration_points': 3000,\n",
    "'num_test_grid_points': 500,\n",
    "'real_data': True,\n",
    "'save_steps': True,\n",
    "'start_from_given': True,\n",
    "'time_bound': 183,\n",
    "'use_history': True}\n",
    "\n",
    "with open(f'../data/vancouver_crime/settings_for_vanc_train_data_20.yml', 'w') as f:\n",
    "    yaml.dump(config, f)"
   ]
  },
  {
   "cell_type": "code",
   "execution_count": null,
   "metadata": {},
   "outputs": [],
   "source": [
    "180*24"
   ]
  },
  {
   "cell_type": "code",
   "execution_count": null,
   "metadata": {},
   "outputs": [],
   "source": [
    "from scipy.stats import gamma\n",
    "x = np.arange(0.000001, 50, 0.1)\n",
    "y = gamma.pdf(x, 1.3, scale=1. / 0.1)\n",
    "plt.plot(x,y)"
   ]
  },
  {
   "cell_type": "code",
   "execution_count": null,
   "metadata": {},
   "outputs": [],
   "source": [
    "183 * 24"
   ]
  },
  {
   "cell_type": "code",
   "execution_count": null,
   "metadata": {},
   "outputs": [],
   "source": [
    "len(np.array(5).shape)"
   ]
  },
  {
   "cell_type": "code",
   "execution_count": null,
   "metadata": {},
   "outputs": [],
   "source": []
  }
 ],
 "metadata": {
  "kernelspec": {
   "display_name": "Python 3",
   "language": "python",
   "name": "python3"
  },
  "language_info": {
   "codemirror_mode": {
    "name": "ipython",
    "version": 3
   },
   "file_extension": ".py",
   "mimetype": "text/x-python",
   "name": "python",
   "nbconvert_exporter": "python",
   "pygments_lexer": "ipython3",
   "version": "3.7.4"
  }
 },
 "nbformat": 4,
 "nbformat_minor": 4
}
